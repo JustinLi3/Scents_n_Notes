{
 "cells": [
  {
   "cell_type": "code",
   "execution_count": 4,
   "metadata": {},
   "outputs": [],
   "source": [
    "from langchain_openai import ChatOpenAI\n",
    "from langchain_community.tools.tavily_search import TavilySearchResults\n",
    "from langchain_core.messages import HumanMessage, SystemMessage\n",
    "import os \n",
    "import json\n",
    "\n",
    "\n",
    "OPENAI_API_KEY=os.getenv(\"OPENAI_API_KEY\") \n",
    "TAVILY_API_KEY=os.getenv(\"TAVILY_API_KEY\")"
   ]
  },
  {
   "cell_type": "code",
   "execution_count": 3,
   "metadata": {},
   "outputs": [
    {
     "data": {
      "text/plain": [
       "[{'url': 'https://www.whowhatwear.com/uk/best-clean-smelling-perfume',\n",
       "  'content': 'The Best Fresh Perfumes to Add to Your Scent Collection: 1. Diptyque Philosykos Eau De Parfum, £160 2. Jo Malone London Orange Blossom Cologne, £118 3. Valmont Palazzo Nobile Fizzy Mint, £136 4. Estee Lauder Rose De Grasse Pour Filles, £90 5. Maison Francis Kurkdjian Aqua Celestia Cologne Forte Eau De Parfum, £175. Shop the Best Fresh'},\n",
       " {'url': 'https://editorialist.com/beauty/best-fresh-perfumes/',\n",
       "  'content': \"The best fresh perfumes from brands like Chanel, Diptyque, Juliette Has a Gun, and more are the fragrance equivalent of just-washed sheets. ... 5/17. Best Soapy, Fresh Scent: Maison Margiela Replica Bubble Bath Eau de Toilette. There's a reason this fresh scent is called Bubble Bath. Margiela's idea of a fragrance that's reminiscent of a\"},\n",
       " {'url': 'https://www.whowhatwear.com/best-fresh-fragrances',\n",
       "  'content': \"To get the lowdown on the best mood-lifting fragrances Fresh has to offer, I went straight to the source. I tapped the brand for a few details on its best sellers with a bit of backstory from the brand's co-founder Lev Glazman. Read on below for which ones to add to your collection. 1. Hesperides Grapefruit Eau de Parfum\"},\n",
       " {'url': 'https://www.allure.com/story/best-fresh-fragrances',\n",
       "  'content': 'The 5 Best Fresh-Scented Fragrances. By Francis Kurkdjian. April 16, 2016. Save. Save. All products are independently selected by our editors. If you buy something, we may earn an affiliate'},\n",
       " {'url': 'https://www.whowhatwear.com/best-clean-smelling-perfume',\n",
       "  'content': \"The biggest similarity they have is that the best clean perfumes always make me feel fresh—like a blank slate. I wear them when I want to feel like I'm giving myself a new start. Keep reading to find my favorite clean-smelling scents. Some may even catch you by surprise. 1. Maison Francis Kurkdjian Aqua Universalis Eau de Toilette\"}]"
      ]
     },
     "execution_count": 3,
     "metadata": {},
     "output_type": "execute_result"
    }
   ],
   "source": [
    "tool = TavilySearchResults(\n",
    "    max_results=5,\n",
    "    search_depth=\"advanced\",\n",
    "    include_answer=True,\n",
    "    include_raw_content=True,\n",
    "    include_images=True,\n",
    "    # include_domains=[...],\n",
    "    # exclude_domains=[...],\n",
    "    # name=\"...\",            # overwrite default tool name\n",
    "    # description=\"...\",     # overwrite default tool description\n",
    "    # args_schema=...,       # overwrite default args_schema: BaseModel\n",
    ")\n",
    "tool.invoke({\"query\": \"What are the top 5 fresh fragrances\"}).content"
   ]
  },
  {
   "cell_type": "code",
   "execution_count": 18,
   "metadata": {},
   "outputs": [],
   "source": [
    "model = ChatOpenAI(model=\"gpt-4o-mini\")\n",
    "messages = [\n",
    "    SystemMessage(\"Translate the following from English into Italian\"),\n",
    "    HumanMessage(\"hi!\"),\n",
    "]"
   ]
  },
  {
   "cell_type": "code",
   "execution_count": 8,
   "metadata": {},
   "outputs": [
    {
     "name": "stdout",
     "output_type": "stream",
     "text": [
      "Ciao!\n"
     ]
    }
   ],
   "source": [
    "response = model.invoke(messages) \n",
    "print(response.content)"
   ]
  },
  {
   "cell_type": "code",
   "execution_count": null,
   "metadata": {},
   "outputs": [
    {
     "name": "stdout",
     "output_type": "stream",
     "text": [
      "Ciao is an Italian word that is commonly used as a casual way of saying hello or goodbye in English.\n"
     ]
    }
   ],
   "source": []
  }
 ],
 "metadata": {
  "kernelspec": {
   "display_name": "Python 3",
   "language": "python",
   "name": "python3"
  },
  "language_info": {
   "codemirror_mode": {
    "name": "ipython",
    "version": 3
   },
   "file_extension": ".py",
   "mimetype": "text/x-python",
   "name": "python",
   "nbconvert_exporter": "python",
   "pygments_lexer": "ipython3",
   "version": "3.13.0"
  }
 },
 "nbformat": 4,
 "nbformat_minor": 2
}
