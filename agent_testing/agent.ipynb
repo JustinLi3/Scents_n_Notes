{
 "cells": [
  {
   "cell_type": "code",
   "execution_count": 4,
   "metadata": {},
   "outputs": [],
   "source": [
    "#Essentially a translator that takes your prompt and reformats for LangChain to better understand to process better\n",
    "from langchain.adapters.openai import convert_openai_messages\n",
    "from langchain_openai import ChatOpenAI\n",
    "from tavily import TavilyClient\n",
    "import os "
   ]
  },
  {
   "cell_type": "markdown",
   "metadata": {},
   "source": [
    "Tavily Search"
   ]
  },
  {
   "cell_type": "code",
   "execution_count": 5,
   "metadata": {},
   "outputs": [
    {
     "name": "stdout",
     "output_type": "stream",
     "text": [
      "{'query': 'Recommend me the top five fragrances', 'follow_up_questions': None, 'answer': None, 'images': [], 'results': [{'title': 'These Are the Top 5 Fragrances Among NewBeauty Readers', 'url': 'https://www.newbeauty.com/top-5-favorite-fragrances-newbeauty-readers/', 'content': 'These Are the Top 5 Fragrances Among NewBeauty Readers - NewBeauty 2024 NewBeauty Readers Choice Awards These Are the Top 5 Fragrances Among NewBeauty Readers From a study of over 700 NewBeauty readers, we narrowed down respondents’ top five perfume brands, and the specific scents from those brands they love most*. Dior boasts several modern classics among their fragrances, but the two our readers cited most were floral favorites. Another bonafide celebrity favorite, Jo Malone London lands at number two among NewBeauty readers. NewBeauty readers’ go-to fragrance brand is Chanel, home of the perfume that has become synonymous with perfume itself, N°5 ($165). Combination Skin-Care Essentials NewBeauty Readers Love Skin Care Under $30: 5 Products NewBeauty Readers Are Obsessed With We Heard From 700+ NewBeauty Readers: This Is Their Favorite Fragrance', 'score': 0.7724109, 'raw_content': None}, {'title': '20 Best Perfumes for Women in 2024 - Top Fragrances of All Time', 'url': 'https://www.goodhousekeeping.com/beauty-products/g28185044/best-perfume-for-women/', 'content': \"Our top picks:\\nBest Nighttime Perfume for Women\\nBest Luxury Perfume for Women\\nBest Citrus Perfume for Women\\nBest Warm Perfume for Women\\nBest Rose Perfume for Women\\nBest Rich Floral Perfume for Women\\nBest Woodsy Perfume for Women\\nBest Sheer Floral Perfume for Women\\nBest Sophisticated Perfume for Women\\nBest Sparkling Perfume for Women\\nWhether you're shopping for yourself or looking for a gift she'll love, we've rounded up the all-time best women's perfumes for every occasion, scent preference and season, including affordable perfumes that won't break the bank. You Can Buy on Amazon\\nThe Best Mattresses\\nThe 10 Best Exercise Mats of 2024\\nThe Best Phone Cases\\nSamsung The Frame TV Review 2023\\nThe Best Vacuums for Hardwood Floors\\nA Part of Hearst Digital Media\\nGood Housekeeping participates in various affiliate marketing programs, which means we may get paid commissions on editorially chosen products purchased through our links to retailer sites.\\n Product Reviews\\nThe Best Robot Vacuums\\nBest Tested Robot Mops of 2023\\nBest STEM Toys for Little Scientists of All Ages\\nThe Best At-Home Laser Hair Removal Devices\\nThe Best Shapewear for Every Occasion\\nThe Best Weighted Blankets 2023\\nBest Sheets Lancôme\\nLa Vie Est Belle Eau De Parfum\\nLancôme\\nLa Vie Est Belle Eau De Parfum\\nPerfect for warmer months, this light and sweet Lancôme fragrance features bright, effervescent notes of white iris, patchouli, vanilla and spun sugar.\\n Chanel Coco Mademoiselle Eau De Parfum Spray\\nChanel Coco Mademoiselle Eau De Parfum Spray\\nIf you grew up admiring your mom's bottle of Chanel No. 5 perfume on her vanity, this equally enviable bottle — with more modern and energizing notes of orange, jasmine, rose and patchouli — is an elevated alternative to the classic.\\n\", 'score': 0.5760895, 'raw_content': None}, {'title': 'The 27 Very Best Perfumes - New York Magazine', 'url': 'https://nymag.com/strategist/article/best-perfume.html', 'content': 'To find the best (and best-smelling) perfumes, I asked five cool people — including beauty editors, ... This \"super, super green\" perfume comes recommended by Trinity Mouzon Wofford, the co', 'score': 0.44478238, 'raw_content': None}, {'title': \"The 23 Best Perfumes and Fragrances For Women In 2024 - Women's Health\", 'url': 'https://www.womenshealthmag.com/beauty/g40118573/best-womens-perfumes/', 'content': 'Reviewers of this 5-star perfume at Nordstrom call it \"comforting\" without being cloying. ... yet rich, and a little spicy. It just has the best smell ever—I definitely recommend!!\" Size: 1.', 'score': 0.4400126, 'raw_content': None}, {'title': \"20 Best Perfumes for Women, Tested & Reviewed for 2024 - Harper's BAZAAR\", 'url': 'https://www.harpersbazaar.com/beauty/makeup/g38284762/best-perfume-for-women/', 'content': \"The Edit: Editors' Picks\\nThe Starring Bag in Bazaar’s Fashion Closet\\n13 Work Clothes Stores an Editor Swears By\\nBazaar Editors’ Most Wanted Holiday Gifts\\nWhat We're Shopping at Net-a-Porter's Rare Sale\\nOur Editors' Most Anticipated Black Friday Sales\\nRoad Test: We Tried Nécessaire’s Hand Duo\\nThe Bazaar Guide to Owning Your Workdrobe\\nWe Consider These Scents the Best Colognes, Ever\\n20 Editor-Loved Fall Perfumes to Keep in Rotation\\nBazaar Editors on Their 10 Best Coats\\nThe 61 Best New Perfumes of the Year\\nBazaar’s Guide to Building a Fall Wardrobe\\nA Part of Hearst Digital Media\\n Shop the Best Perfumes of All-Time\\nBest Fruity Perfume\\nBest Value Perfume\\nMost Enduring Perfume\\nBest Luxury Perfume\\nBest Celebrity Perfume\\nBest Gourmand Perfume\\nMost Robust Floral Perfume\\nBest Mildly Sweet Perfume\\nBest Vanilla Perfume\\nBest Fashion-Inspired Perfume\\nFrom those that have stood the test of time, like the tried-and-true classic Chanel No. 5 and vanilla-noted YSL Black Opium, to more recent favorites from Glossier, Byredo, and more, the following perfumes have earned a forever space on our vanities until the end of time—or at least until they're discontinued. Le Labo Santal 33 Eau de Parfum\\nLe Labo Santal 33 Eau de Parfum\\nThis sexy fragrance became one of the biggest perfume crazes of the last decade, and for good reason: It’s musky, spicy, and a bit smoky (but not overwhelmingly so), and the genderless quality makes it ideal for sharing.\\n Heretic Dirty Vanilla Eau de Parfum\\nHeretic Dirty Vanilla Eau de Parfum\\nWe count Heretic's Dirty Vanilla Eau de Parfum as one of our top gourmand-inspired picks, since its warm and spicy notes are a clear standout in a sea of overly syrupy scents.\\n Henry Rose Jake's House\\nHenry Rose Jake's House\\nA gorgeous combination of honeyed neroli, peony, jasmine, and musk, this top seller from Michelle Pfeiffer’s fragrance line smells both crisp and clean, and is made with clean ingredients; in fact, it’s the only fine fragrance line to be verified by the Environmental Working Group (EWG).\\n\", 'score': 0.40952834, 'raw_content': None}], 'response_time': 1.83}\n"
     ]
    }
   ],
   "source": [
    "client = TavilyClient(api_key=os.environ.get('TAVILY_API_KEY')) \n",
    "response = client.search(query= \"Recommend me the top five fragrances\")\n",
    "#Returns sources sorted by relevant scores\n",
    "print(response)"
   ]
  },
  {
   "cell_type": "markdown",
   "metadata": {},
   "source": [
    "Processing & Displaying Results"
   ]
  },
  {
   "cell_type": "code",
   "execution_count": 6,
   "metadata": {},
   "outputs": [
    {
     "name": "stdout",
     "output_type": "stream",
     "text": [
      "These Are the Top 5 Fragrances Among NewBeauty Readers\n",
      "20 Best Perfumes for Women in 2024 - Top Fragrances of All Time\n",
      "The 27 Very Best Perfumes - New York Magazine\n",
      "The 23 Best Perfumes and Fragrances For Women In 2024 - Women's Health\n",
      "20 Best Perfumes for Women, Tested & Reviewed for 2024 - Harper's BAZAAR\n"
     ]
    }
   ],
   "source": [
    "for result in response['results']:\n",
    "    print(result['title'])"
   ]
  },
  {
   "cell_type": "markdown",
   "metadata": {},
   "source": [
    "More Advanced Search Query"
   ]
  },
  {
   "cell_type": "code",
   "execution_count": 7,
   "metadata": {},
   "outputs": [
    {
     "name": "stdout",
     "output_type": "stream",
     "text": [
      "Top Women Perfumes Perfumes Women Perfumes Eyes Eye Cream Eye Cream Hair Perfume Perfumes Perfumes French Fragrance offers you a detailed look at some of the best-selling and most iconic perfumes in the world. Their strong brand identities and enduring appeal highlight the diversity of popular scents in the fragrance world. Elie Saab Le Parfum For Women is a luxurious fragrance that blends confidence and charm with bold sophistication, which is specially catered . It brings together an essence of leather with floral, spicy, and woody notes, which can be worn by men and women both. Perfumes (82) Best Luxury Fragrances for New Year Gifting 2025 Top Branded Perfumes for Women in 2025 Top Branded Perfumes for Women French Fragrance Women Perfumes\n"
     ]
    }
   ],
   "source": [
    "response = client.search(\n",
    "    query=\"Based on this user’s preferences, what are the top 5 bestselling cologne/perfumes? Please provide the results in a single string separated by a ‘/’ (e.g., fragrance1/fragrance2/fragrance3/fragrance4/fragrance5): 'Fragrance Type: Cologne Fragrance Format(s): Eau de Parfum (EDP), Eau de Toilette (EDT), Solid Perfumes Fragrance Portfolio(s): Woody, Oriental, Spicy'\",\n",
    "    #A more in depth search but provides more comprehensive results\n",
    "    search_depth='advanced', \n",
    "    max_results=1, \n",
    "    include_images=True, \n",
    ")\n",
    "for result in response['results']:\n",
    "    print(result['content'])"
   ]
  },
  {
   "cell_type": "markdown",
   "metadata": {},
   "source": [
    "Quick Direct Search Query (Concise and Factual) Probably best for this project"
   ]
  },
  {
   "cell_type": "code",
   "execution_count": 8,
   "metadata": {},
   "outputs": [
    {
     "name": "stdout",
     "output_type": "stream",
     "text": [
      "Based on the user's preferences for colognes in Woody, Oriental, and Spicy portfolios, the top 5 bestselling fragrances in 2025 are Chanel No. 19, Eros Intense, Dior Sauvage, Jo Malone London Green Tea, and Tom Ford Oud Wood.\n"
     ]
    }
   ],
   "source": [
    "print(client.qna_search(query= \"Based on this user’s preferences, what are the top 5 bestselling cologne/perfumes? Please provide the results in a single string separated by a ‘/’ (e.g., fragrance1/fragrance2/fragrance3/fragrance4/fragrance5): 'Fragrance Type: Cologne Fragrance Format(s): Eau de Parfum (EDP), Eau de Toilette (EDT), Solid Perfumes Fragrance Portfolio(s): Woody, Oriental, Spicy'\"))"
   ]
  },
  {
   "cell_type": "markdown",
   "metadata": {},
   "source": [
    "Combining Tavily's search capabilities with LLMS using LangChain"
   ]
  },
  {
   "cell_type": "code",
   "execution_count": 9,
   "metadata": {},
   "outputs": [
    {
     "data": {
      "text/plain": [
       "[{'title': 'Best-Selling Branded Perfumes in 2025 - frenchfragrance.com',\n",
       "  'url': 'https://frenchfragrance.com/blog/best-selling-branded-perfumes-in-2025',\n",
       "  'content': 'Top Women Perfumes Perfumes Women Perfumes Eyes Eye Cream Eye Cream Hair Perfume Perfumes Perfumes French Fragrance offers you a detailed look at some of the best-selling and most iconic perfumes in the world. Their strong brand identities and enduring appeal highlight the diversity of popular scents in the fragrance world. Elie Saab Le Parfum For Women is a luxurious fragrance that blends confidence and charm with bold sophistication, which is specially catered . It brings together an essence of leather with floral, spicy, and woody notes, which can be worn by men and women both. Perfumes (82) Best Luxury Fragrances for New Year Gifting 2025 Top Branded Perfumes for Women in 2025 Top Branded Perfumes for Women French Fragrance Women Perfumes',\n",
       "  'score': 0.7680558,\n",
       "  'raw_content': None},\n",
       " {'title': '10 Best Woody Perfumes For Women - Stylecraze',\n",
       "  'url': 'https://www.stylecraze.com/articles/best-woodsy-perfumes/',\n",
       "  'content': '10 Best Woody Perfumes For Women That Are Sultry And Seductive - 2025. ... This spicy perfume is laced with oriental notes to create a masterpiece. This iconic fragrance from a celebrity-endorsed brand is sure to lift your senses. ... How To Select The Best Woody Perfumes For Women. Perfume Oil Concentration: The concentration of perfume oil',\n",
       "  'score': 0.75290436,\n",
       "  'raw_content': None},\n",
       " {'title': '10 Best Spicy Perfumes That Are Simply Oriental Yet ... - Stylecraze',\n",
       "  'url': 'https://www.stylecraze.com/articles/best-spicy-perfumes/',\n",
       "  'content': '| Best Natural:Erbario Toscano Spicy Vanilla Eau De Parfum | Price on Amazon | 10 Best Spicy Perfumes You Ought To Try In 2025 How To Choose Best Spicy Perfume Infographic: Tips To Choose The Best Spicy Perfumes The Spice and Black Vanilla spray by Cremo has a perfume composition of heady notes\\xa0that provide you the ultimate experience of a long-lasting fragrance. How To Choose Best Spicy Perfume Infographic: Tips To Choose The Best Spicy Perfumes So, let go of the common myths and invest in the best spicy perfumes that keep you energetic all day long. The author of this article, Srijani Roy Chowdhury, is a makeup enthusiast and loves perfumes with warm and spicy fragrance notes.',\n",
       "  'score': 0.7036111,\n",
       "  'raw_content': None},\n",
       " {'title': '13 Best Recommended Oriental Perfumes For Women - 2025 - Stylecraze',\n",
       "  'url': 'https://www.stylecraze.com/articles/best-oriental-perfumes/',\n",
       "  'content': '13 Best Oriental Perfumes For Women Things To Consider Before Buying The Best Oriental Perfumes For Women 13 Best Oriental Perfumes For Women The base notes consist of vanilla, sandalwood, and amber, all of which brilliantly express the exotic side of the artist’s Eastern roots, making this the ideal oriental fragrance for all the stunning women out there. The base notes dry down to sandalwood, tonka bean, amber, patchouli, musk, civet, oakmoss, vanilla, and cedar, making this the perfect oriental perfume for everyday wear. Things To Consider Before Buying The Best Oriental Perfumes For Women Oriental perfumes are known for spicy notes and sensual fragrances. In this article, she discusses the best Oriental perfumes that can make you smell exotic and boost your mood immediately.',\n",
       "  'score': 0.6649108,\n",
       "  'raw_content': None},\n",
       " {'title': \"25 Top Men's Fragrances For 2025 - Real Men Real Style\",\n",
       "  'url': 'https://www.realmenrealstyle.com/25-top-mens-fragrances-2025/',\n",
       "  'content': \"25 Top Men's Fragrances For 2025 25 Top Men’s Fragrances For 2025 Overview: A timeless Chanel's classic that balances freshness with deep woody notes, perfect for day-to-night transitions. Overview: A spicier, more daring take on the original Eros, blending warm and fresh notes for an unforgettable scent. Overview: A signature scent for success, blending fruity and woody notes with unparalleled sophistication. Overview: A minimalist and refreshing fragrance with a focus on green tea-inspired notes. Overview: A luxurious and vibrant fragrance for men who want a fresh yet complex scent. Overview: A woody fragrance inspired by nature, perfect for earthy and confident men. Overview: A clean and magnetic fragrance for men who prefer understated elegance.\",\n",
       "  'score': 0.6504012,\n",
       "  'raw_content': None},\n",
       " {'title': 'Best Colognes for Men (2025) - 9meters',\n",
       "  'url': 'https://9meters.com/entertainment/fashion/best-colognes',\n",
       "  'content': 'When selecting a cologne, it’s crucial to consider its notes and how long-lasting the scent will be. | 10 | One Million Eau de Toilette | Spicy, Fresh | Bold occasions, nights out | Long-lasting | $$$ | Seductive scent with luxurious gold bottle design | Scent Type: Primary fragrance family of the cologne. We recommend Nautica Voyage for its fresh, long-lasting scent and excellent value. This cologne offers a unique aquatic scent with impressive longevity, making it a great choice for men seeking a distinctive fragrance. We highly recommend this luxurious men’s fragrance for its captivating scent and long-lasting performance. We highly recommend Azzaro Chrome for its fresh, long-lasting scent that’s perfect for everyday wear.',\n",
       "  'score': 0.62906903,\n",
       "  'raw_content': None},\n",
       " {'title': 'Best Selling And Smelling Colognes For Men in 2025',\n",
       "  'url': 'https://www.fragrancereview.com/best-colognes-for-men/',\n",
       "  'content': 'Potentially the most recognizable fragrance from the Calvin Klein brand, this unisex scent is ideal for men who want something fresh and uplifting. While this is an Aromatic Fougere fragrance, which would typically lean towards evening wear, the unique blend of fresh notes, make it ideal for everyday use. Boss Bottled has almost become an icon of the fragrance world and it is little wonder it is now one of the best men’s colognes in the world. It is a lux fragrance that doesn’t come with a high price tag, making it one of the top men’s colognes that are budget-friendly. This diverse Aromatic Fougere fragrance for men can be worn either day or night when you really want to make a statement.',\n",
       "  'score': 0.62330866,\n",
       "  'raw_content': None},\n",
       " {'title': '10 Best Woody Fragrances for the Men in 2025 - The ... - The Trend Spotter',\n",
       "  'url': 'https://www.thetrendspotter.net/10-best-woody-fragrances-for-the-mysterious-man/',\n",
       "  'content': '10 Best Woody Fragrances for the Men in 2024 - The Trend Spotter When it comes to woody fragrances, this scent is undeniably one that you will want to try, based on its complex yet still classic composition. This scent was inspired by the authentic elements of nature, but consistent with the ultra-classic Tom Ford brand is much more sophisticated and complex than most woody fragrances. This scent is certainly fresher than the typical warmth of a woody fragrance. With cypriol, incense, cedarwood, oud wood, and cardamom this fragrance is a playful mix of the classic notes that typically make up a woody scent.',\n",
       "  'score': 0.5518883,\n",
       "  'raw_content': None},\n",
       " {'title': 'What Are the Best Woody Oriental Perfumes for 2024? Top 5 ...',\n",
       "  'url': 'https://imixxperfumes.com/what-are-the-best-woody-oriental-perfumes-for-2024-top-5-recommendations/',\n",
       "  'content': 'Woody oriental perfumes combine the earthiness of wood notes like sandalwood and cedar with the richness of oriental spices, amber, and resins. Woody oriental perfumes offer a luxurious experience, combining the rugged, earthy qualities of wood with the opulence of oriental spices. Woody oriental perfumes offer a refined and complex scent profile, making them ideal for those who enjoy niche fragrance options. Woody oriental perfumes from imixxperfumes.com offer an excellent balance between luxury and affordability, making them a great choice for anyone looking to invest in a long-lasting, high-quality fragrance. A: Thanks to their deep, rich notes, woody oriental perfumes are known for their long-lasting performance. Woody oriental perfumes are a must-have for anyone seeking a bold, long-lasting, and luxurious fragrance experience.',\n",
       "  'score': 0.514718,\n",
       "  'raw_content': None},\n",
       " {'title': 'The Ultimate Guide to Best Cologne for Men in 2025',\n",
       "  'url': 'https://grxium.com/the-ultimate-guide-to-best-cologne-for-men-in-2025/',\n",
       "  'content': 'Discover your signature scent with this complete guide to choosing the perfect cologne for your style, personality, and lifestyle. Discover how to find your signature scent with tips on fragrance families, application, and the best colognes for every occasion. By understanding how body chemistry affects cologne, you can choose a signature fragrance that complements your individuality and leaves a lasting impression. By sampling colognes properly, you’ll discover a fragrance that not only smells great but also complements your unique chemistry, helping you choose a signature scent with confidence. Fragrance trends in 2025 focus on individuality, sustainability, and bold scent combinations, making it an exciting time to explore the world of colognes.',\n",
       "  'score': 0.47548413,\n",
       "  'raw_content': None}]"
      ]
     },
     "execution_count": 9,
     "metadata": {},
     "output_type": "execute_result"
    }
   ],
   "source": [
    "#Essentially translates our query into a more formatted way for LangChain to understand\n",
    "from langchain.adapters.openai import convert_openai_messages\n",
    "#Allow us to interact with LLMS\n",
    "from langchain_openai import ChatOpenAI\n",
    "\n",
    "\n",
    "#Tavily Prompt (Search Query To Retrieve Data):\n",
    "query = \"Based on this user’s preferences, what are the top 5 bestselling cologne/perfumes? Please provide the results in a single string separated by a ‘/’ (e.g., fragrance1/fragrance2/fragrance3/fragrance4/fragrance5): 'Fragrance Type: Cologne Fragrance Format(s): Eau de Parfum (EDP), Eau de Toilette (EDT), Solid Perfumes Fragrance Portfolio(s): Woody, Oriental, Spicy'\"\n",
    "response = client.search(query, max_results= 10, search_depth=\"advanced\")['results']\n",
    "response"
   ]
  },
  {
   "cell_type": "code",
   "execution_count": 10,
   "metadata": {},
   "outputs": [
    {
     "data": {
      "text/plain": [
       "[SystemMessage(content=\" \\n        You are an AI critical thinker research assistant. \\n        Your purpose is to help recommend user's best selling fragrances.\\n        \", additional_kwargs={}, response_metadata={}),\n",
       " HumanMessage(content='Information: \"\"\"[{\\'title\\': \\'Best-Selling Branded Perfumes in 2025 - frenchfragrance.com\\', \\'url\\': \\'https://frenchfragrance.com/blog/best-selling-branded-perfumes-in-2025\\', \\'content\\': \\'Top Women Perfumes Perfumes Women Perfumes Eyes Eye Cream Eye Cream Hair Perfume Perfumes Perfumes French Fragrance offers you a detailed look at some of the best-selling and most iconic perfumes in the world. Their strong brand identities and enduring appeal highlight the diversity of popular scents in the fragrance world. Elie Saab Le Parfum For Women is a luxurious fragrance that blends confidence and charm with bold sophistication, which is specially catered . It brings together an essence of leather with floral, spicy, and woody notes, which can be worn by men and women both. Perfumes (82) Best Luxury Fragrances for New Year Gifting 2025 Top Branded Perfumes for Women in 2025 Top Branded Perfumes for Women French Fragrance Women Perfumes\\', \\'score\\': 0.7680558, \\'raw_content\\': None}, {\\'title\\': \\'10 Best Woody Perfumes For Women - Stylecraze\\', \\'url\\': \\'https://www.stylecraze.com/articles/best-woodsy-perfumes/\\', \\'content\\': \\'10 Best Woody Perfumes For Women That Are Sultry And Seductive - 2025. ... This spicy perfume is laced with oriental notes to create a masterpiece. This iconic fragrance from a celebrity-endorsed brand is sure to lift your senses. ... How To Select The Best Woody Perfumes For Women. Perfume Oil Concentration: The concentration of perfume oil\\', \\'score\\': 0.75290436, \\'raw_content\\': None}, {\\'title\\': \\'10 Best Spicy Perfumes That Are Simply Oriental Yet ... - Stylecraze\\', \\'url\\': \\'https://www.stylecraze.com/articles/best-spicy-perfumes/\\', \\'content\\': \\'| Best Natural:Erbario Toscano Spicy Vanilla Eau De Parfum | Price on Amazon | 10 Best Spicy Perfumes You Ought To Try In 2025 How To Choose Best Spicy Perfume Infographic: Tips To Choose The Best Spicy Perfumes The Spice and Black Vanilla spray by Cremo has a perfume composition of heady notes\\\\xa0that provide you the ultimate experience of a long-lasting fragrance. How To Choose Best Spicy Perfume Infographic: Tips To Choose The Best Spicy Perfumes So, let go of the common myths and invest in the best spicy perfumes that keep you energetic all day long. The author of this article, Srijani Roy Chowdhury, is a makeup enthusiast and loves perfumes with warm and spicy fragrance notes.\\', \\'score\\': 0.7036111, \\'raw_content\\': None}, {\\'title\\': \\'13 Best Recommended Oriental Perfumes For Women - 2025 - Stylecraze\\', \\'url\\': \\'https://www.stylecraze.com/articles/best-oriental-perfumes/\\', \\'content\\': \\'13 Best Oriental Perfumes For Women Things To Consider Before Buying The Best Oriental Perfumes For Women 13 Best Oriental Perfumes For Women The base notes consist of vanilla, sandalwood, and amber, all of which brilliantly express the exotic side of the artist’s Eastern roots, making this the ideal oriental fragrance for all the stunning women out there. The base notes dry down to sandalwood, tonka bean, amber, patchouli, musk, civet, oakmoss, vanilla, and cedar, making this the perfect oriental perfume for everyday wear. Things To Consider Before Buying The Best Oriental Perfumes For Women Oriental perfumes are known for spicy notes and sensual fragrances. In this article, she discusses the best Oriental perfumes that can make you smell exotic and boost your mood immediately.\\', \\'score\\': 0.6649108, \\'raw_content\\': None}, {\\'title\\': \"25 Top Men\\'s Fragrances For 2025 - Real Men Real Style\", \\'url\\': \\'https://www.realmenrealstyle.com/25-top-mens-fragrances-2025/\\', \\'content\\': \"25 Top Men\\'s Fragrances For 2025 25 Top Men’s Fragrances For 2025 Overview: A timeless Chanel\\'s classic that balances freshness with deep woody notes, perfect for day-to-night transitions. Overview: A spicier, more daring take on the original Eros, blending warm and fresh notes for an unforgettable scent. Overview: A signature scent for success, blending fruity and woody notes with unparalleled sophistication. Overview: A minimalist and refreshing fragrance with a focus on green tea-inspired notes. Overview: A luxurious and vibrant fragrance for men who want a fresh yet complex scent. Overview: A woody fragrance inspired by nature, perfect for earthy and confident men. Overview: A clean and magnetic fragrance for men who prefer understated elegance.\", \\'score\\': 0.6504012, \\'raw_content\\': None}, {\\'title\\': \\'Best Colognes for Men (2025) - 9meters\\', \\'url\\': \\'https://9meters.com/entertainment/fashion/best-colognes\\', \\'content\\': \\'When selecting a cologne, it’s crucial to consider its notes and how long-lasting the scent will be. | 10 | One Million Eau de Toilette | Spicy, Fresh | Bold occasions, nights out | Long-lasting | $$$ | Seductive scent with luxurious gold bottle design | Scent Type: Primary fragrance family of the cologne. We recommend Nautica Voyage for its fresh, long-lasting scent and excellent value. This cologne offers a unique aquatic scent with impressive longevity, making it a great choice for men seeking a distinctive fragrance. We highly recommend this luxurious men’s fragrance for its captivating scent and long-lasting performance. We highly recommend Azzaro Chrome for its fresh, long-lasting scent that’s perfect for everyday wear.\\', \\'score\\': 0.62906903, \\'raw_content\\': None}, {\\'title\\': \\'Best Selling And Smelling Colognes For Men in 2025\\', \\'url\\': \\'https://www.fragrancereview.com/best-colognes-for-men/\\', \\'content\\': \\'Potentially the most recognizable fragrance from the Calvin Klein brand, this unisex scent is ideal for men who want something fresh and uplifting. While this is an Aromatic Fougere fragrance, which would typically lean towards evening wear, the unique blend of fresh notes, make it ideal for everyday use. Boss Bottled has almost become an icon of the fragrance world and it is little wonder it is now one of the best men’s colognes in the world. It is a lux fragrance that doesn’t come with a high price tag, making it one of the top men’s colognes that are budget-friendly. This diverse Aromatic Fougere fragrance for men can be worn either day or night when you really want to make a statement.\\', \\'score\\': 0.62330866, \\'raw_content\\': None}, {\\'title\\': \\'10 Best Woody Fragrances for the Men in 2025 - The ... - The Trend Spotter\\', \\'url\\': \\'https://www.thetrendspotter.net/10-best-woody-fragrances-for-the-mysterious-man/\\', \\'content\\': \\'10 Best Woody Fragrances for the Men in 2024 - The Trend Spotter When it comes to woody fragrances, this scent is undeniably one that you will want to try, based on its complex yet still classic composition. This scent was inspired by the authentic elements of nature, but consistent with the ultra-classic Tom Ford brand is much more sophisticated and complex than most woody fragrances. This scent is certainly fresher than the typical warmth of a woody fragrance. With cypriol, incense, cedarwood, oud wood, and cardamom this fragrance is a playful mix of the classic notes that typically make up a woody scent.\\', \\'score\\': 0.5518883, \\'raw_content\\': None}, {\\'title\\': \\'What Are the Best Woody Oriental Perfumes for 2024? Top 5 ...\\', \\'url\\': \\'https://imixxperfumes.com/what-are-the-best-woody-oriental-perfumes-for-2024-top-5-recommendations/\\', \\'content\\': \\'Woody oriental perfumes combine the earthiness of wood notes like sandalwood and cedar with the richness of oriental spices, amber, and resins. Woody oriental perfumes offer a luxurious experience, combining the rugged, earthy qualities of wood with the opulence of oriental spices. Woody oriental perfumes offer a refined and complex scent profile, making them ideal for those who enjoy niche fragrance options. Woody oriental perfumes from imixxperfumes.com offer an excellent balance between luxury and affordability, making them a great choice for anyone looking to invest in a long-lasting, high-quality fragrance. A: Thanks to their deep, rich notes, woody oriental perfumes are known for their long-lasting performance. Woody oriental perfumes are a must-have for anyone seeking a bold, long-lasting, and luxurious fragrance experience.\\', \\'score\\': 0.514718, \\'raw_content\\': None}, {\\'title\\': \\'The Ultimate Guide to Best Cologne for Men in 2025\\', \\'url\\': \\'https://grxium.com/the-ultimate-guide-to-best-cologne-for-men-in-2025/\\', \\'content\\': \\'Discover your signature scent with this complete guide to choosing the perfect cologne for your style, personality, and lifestyle. Discover how to find your signature scent with tips on fragrance families, application, and the best colognes for every occasion. By understanding how body chemistry affects cologne, you can choose a signature fragrance that complements your individuality and leaves a lasting impression. By sampling colognes properly, you’ll discover a fragrance that not only smells great but also complements your unique chemistry, helping you choose a signature scent with confidence. Fragrance trends in 2025 focus on individuality, sustainability, and bold scent combinations, making it an exciting time to explore the world of colognes.\\', \\'score\\': 0.47548413, \\'raw_content\\': None}]\"\"\"\\n        Using the information above, answer the following query: \"\"\"Based on this user’s preferences, what are the top 5 bestselling cologne/perfumes? Please provide the results in a single string separated by a ‘/’ (e.g., fragrance1/fragrance2/fragrance3/fragrance4/fragrance5): \\'Fragrance Type: Cologne Fragrance Format(s): Eau de Parfum (EDP), Eau de Toilette (EDT), Solid Perfumes Fragrance Portfolio(s): Woody, Oriental, Spicy\\'\"\"\". \\n        ', additional_kwargs={}, response_metadata={})]"
      ]
     },
     "execution_count": 10,
     "metadata": {},
     "output_type": "execute_result"
    }
   ],
   "source": [
    "#LangChain Prompt (Search Query To Process Data): \n",
    "prompt = [\n",
    "    #Define the AI's job description\n",
    "    {\n",
    "        'role':'system', \n",
    "        'content': f''' \n",
    "        You are an AI critical thinker research assistant. \n",
    "        Your purpose is to help recommend user's best selling fragrances.\n",
    "        '''\n",
    "    },\n",
    "    #Give Specific instructions for the current task based on the input data\n",
    "    {\n",
    "        'role': 'user', \n",
    "        'content': f'''Information: \"\"\"{response}\"\"\"\n",
    "        Using the information above, answer the following query: \"\"\"{query}\"\"\". \n",
    "        '''\n",
    "    }\n",
    "]\n",
    "\n",
    "lc_messages = convert_openai_messages(prompt)\n",
    "lc_messages"
   ]
  },
  {
   "cell_type": "code",
   "execution_count": 11,
   "metadata": {},
   "outputs": [
    {
     "name": "stdout",
     "output_type": "stream",
     "text": [
      "Elie Saab Le Parfum For Women/Spice and Black Vanilla by Cremo/Erbario Toscano Spicy Vanilla Eau De Parfum/Boss Bottled/Nautica Voyage\n"
     ]
    }
   ],
   "source": [
    "response = ChatOpenAI(model='gpt-4o-mini').invoke(lc_messages)\n",
    "print(response.content)"
   ]
  }
 ],
 "metadata": {
  "kernelspec": {
   "display_name": "Python 3",
   "language": "python",
   "name": "python3"
  },
  "language_info": {
   "codemirror_mode": {
    "name": "ipython",
    "version": 3
   },
   "file_extension": ".py",
   "mimetype": "text/x-python",
   "name": "python",
   "nbconvert_exporter": "python",
   "pygments_lexer": "ipython3",
   "version": "3.13.0"
  }
 },
 "nbformat": 4,
 "nbformat_minor": 2
}
