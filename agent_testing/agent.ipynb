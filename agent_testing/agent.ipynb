{
 "cells": [
  {
   "cell_type": "code",
   "execution_count": 1,
   "metadata": {},
   "outputs": [],
   "source": [
    "#Essentially a translator that takes your prompt and reformats for LangChain to better understand to process better\n",
    "from langchain.adapters.openai import convert_openai_messages\n",
    "from langchain_openai import ChatOpenAI\n",
    "from tavily import TavilyClient\n",
    "import os "
   ]
  },
  {
   "cell_type": "markdown",
   "metadata": {},
   "source": [
    "Tavily Search"
   ]
  },
  {
   "cell_type": "code",
   "execution_count": 2,
   "metadata": {},
   "outputs": [
    {
     "name": "stdout",
     "output_type": "stream",
     "text": [
      "{'query': 'Recommend me the top five fragrances', 'follow_up_questions': None, 'answer': None, 'images': [], 'results': [{'title': 'These Are the Top 5 Fragrances Among NewBeauty Readers', 'url': 'https://www.newbeauty.com/top-5-favorite-fragrances-newbeauty-readers/', 'content': \"Rounding out the top five is a tie between Maison Francis Kurkdijan's Baccarat Rouge 540 ($645) and Dior. Rouge 540 combines notes of wood, saffron, jasmine, and amber to create an unrivaled aroma.\", 'score': 0.751375, 'raw_content': None}, {'title': 'The 31 Best Perfumes, Byrdie Editor-Tested', 'url': 'https://www.byrdie.com/best-perfumes-for-women-4770556', 'content': \"| Top Notes: Tea, bergamot, Osmanthus | Cruelty-Free: No\\nVersatile\\nLong-lasting\\nMay be overpowering to some\\nByrdie / Jhett Thompson\\nByrdie / Jessica Juliao\\nByrdie / Jessica Juliao\\nByrdie / Jessica Juliao\\nByrdie / Jessica Juliao\\nByrdie / Jessica Juliao\\nByrdie / Jessica Juliao\\nByrdie / Jhett Thompson\\nBest for Date Night\\nCarolina Herrera Good Girl Eau de Parfum\\nSephora\\nSweet without being cloying\\nComplex blend of floral and musk\\nDoesn't last long\\nAs the stiletto-shaped bottle suggests, Good Girl is a study in contrasts. | Top Notes: Orange, mandarin orange, bergamot, orange blossom | Cruelty-Free: No\\nByrdie / Jhett Thompson\\nInStyle / Jessica Juliao\\nByrdie / Jessica Juliao\\nByrdie / Jessica Juliao\\nByrdie / Jessica Juliao\\nByrdie / Jessica Juliao\\nByrdie / Jessica Juliao\\nByrdie / Jessica Juliao\\nByrdie / Jessica Juliao\\nByrdie / Jessica Juliao\\nBest for Winter\\nMaison Margiela Replica\\nSephora\\nUnisex\\nWoodsy but not overpowering\\nLong-lasting\\nSmoky scent may not appeal to all\\nThis unisex offering from the eclectic designer is sweet, warm, and familiar, all without being overdone. | Top Notes: Violet, cardamom | Cruelty-Free: Yes\\nByrdie / Jhett Thompson\\nByrdie / Jessica Juliao\\nByrdie / Jessica Juliao\\nByrdie / Jessica Juliao\\nByrdie / Jessica Juliao\\nByrdie / Jessica Juliao\\nByrdie / Jessica Juliao\\nByrdie / Jhett Thompson\\nByrdie / Jessica Juliao\\nByrdie / Jhett Thompson\\nBest Unisex\\nByredo Bibliothéque\\nNordstrom\\nMinimalist packaging\\nUnisex\\nHas a comforting appeal\\nScent can lean masculine on some wearers\\nA library-inspired scent may sound strange, but trust us, it works. | Top Notes: Lily-of-the-Valley, Centifolia Rose, oft Musk\\xa0 | Cruelty-Free: No\\nByrdie / Jhett Thompson\\nByrdie / Jessica Juliao\\nByrdie / Jessica Juliao\\nByrdie / Jhett Thompson\\nByrdie / Jhett Thompson\\nByrdie / Jessica Juliao\\nByrdie / Jessica Juliao\\nBest Celebrity Scent\\nFenty Eau de Parfum\\nFenty\\nMixes well warm notes from other scents\\nIt smells like honey and incense\\nGorgeous bottle\\nCan be overpowering if you spray too much\\nRihanna has already made waves in the cosmetics industry with the release of her makeup and skincare lines, and now she is expanding into fragrance as well. | Top Notes: Pink pepper | Cruelty-Free: Yes\\nByrdie / Jessica Juliao\\nByrdie / Jhett Thompson\\nByrdie / Jessica Juliao\\nByrdie / Jessica Juliao\\nByrdie / Jhett Thompson\\nByrdie / Jhett Thompson\\nByrdie / Jhett Thompson\\nByrdie / Jhett Thompson\\nByrdie / Jhett Thompson\\nBest for Teens\\nMarc Jacobs Fragrances Daisy\\nAmazon\\nNot overpowering\\nLayers well\\nDoesn't last long\\nAn eau de toilette, Daisy only contains 4 to 8% of pure fragrance, making it lighter and less intense than other perfumes on the market.\", 'score': 0.46832922, 'raw_content': None}, {'title': \"Best Fragrances of All Time: The W Editors' Favorite Perfumes\", 'url': 'https://www.wmagazine.com/beauty/best-fragrances-of-all-time', 'content': \"Canadian Tuxedo is best for my alter ego: soulful and smelling of orange flowers and patchouli—she's denim-clad, wears small-batch fragrances, and her favorite movie is The Outsiders by\", 'score': 0.44927242, 'raw_content': None}, {'title': 'The 27 Very Best Perfumes - New York Magazine', 'url': 'https://nymag.com/strategist/article/best-perfume.html', 'content': 'To find the best (and best-smelling) perfumes, I asked five cool people — including beauty editors, podcasters, and jewelry designers — about their favorites then scoured our archives for any', 'score': 0.42677602, 'raw_content': None}, {'title': \"FRAGRANTICA Readers' Choice AWARDS 2021\", 'url': 'https://www.fragrantica.com/news/FRAGRANTICA-Readers-Choice-AWARDS-2021-15961.html', 'content': 'The result of our readers voting for the best perfumes of 2021! Thank you Fragrantica members for voting in our Readers&#39; Choice AWARDS for the fifth time! Almost one and a half million votes were cast to choose Fragrantica&#39;s favorite perfumes of 2021. Happy New Year to all Fragrantica readers! &nbsp; Best Perfume for Women 2021 Libre Intense Yves Saint Laurent &nbsp; In', 'score': 0.41009519, 'raw_content': None}], 'response_time': 2.0}\n"
     ]
    }
   ],
   "source": [
    "client = TavilyClient(api_key=os.environ.get('TAVILY_API_KEY')) \n",
    "response = client.search(query= \"Recommend me the top five fragrances\")\n",
    "#Returns sources sorted by relevant scores\n",
    "print(response)"
   ]
  },
  {
   "cell_type": "markdown",
   "metadata": {},
   "source": [
    "Processing & Displaying Results"
   ]
  },
  {
   "cell_type": "code",
   "execution_count": 3,
   "metadata": {},
   "outputs": [
    {
     "name": "stdout",
     "output_type": "stream",
     "text": [
      "These Are the Top 5 Fragrances Among NewBeauty Readers\n",
      "The 31 Best Perfumes, Byrdie Editor-Tested\n",
      "Best Fragrances of All Time: The W Editors' Favorite Perfumes\n",
      "The 27 Very Best Perfumes - New York Magazine\n",
      "FRAGRANTICA Readers' Choice AWARDS 2021\n"
     ]
    }
   ],
   "source": [
    "for result in response['results']:\n",
    "    print(result['title'])"
   ]
  },
  {
   "cell_type": "markdown",
   "metadata": {},
   "source": [
    "More Advanced Search Query"
   ]
  },
  {
   "cell_type": "code",
   "execution_count": 4,
   "metadata": {},
   "outputs": [
    {
     "name": "stdout",
     "output_type": "stream",
     "text": [
      "Home - Guides - Best Selling And Smelling Colognes For Men in 2025. Best Selling And Smelling Colognes For Men in 2025. April 11, ... This Oriental Woody fragrance comes in a gorgeous branded bottle that is synonymous with Tom Ford ... It is a woody spicy fragrance that mixes mint and blood orange at the head with a heart of spicy notes and\n"
     ]
    }
   ],
   "source": [
    "response = client.search(\n",
    "    query=\"Based on this user’s preferences, what are the top 5 bestselling cologne/perfumes? Please provide the results in a single string separated by a ‘/’ (e.g., fragrance1/fragrance2/fragrance3/fragrance4/fragrance5): 'Fragrance Type: Cologne Fragrance Format(s): Eau de Parfum (EDP), Eau de Toilette (EDT), Solid Perfumes Fragrance Portfolio(s): Woody, Oriental, Spicy'\",\n",
    "    #A more in depth search but provides more comprehensive results\n",
    "    search_depth='advanced', \n",
    "    max_results=1, \n",
    "    include_images=True, \n",
    ")\n",
    "for result in response['results']:\n",
    "    print(result['content'])"
   ]
  },
  {
   "cell_type": "markdown",
   "metadata": {},
   "source": [
    "Quick Direct Search Query (Concise and Factual) Probably best for this project"
   ]
  },
  {
   "cell_type": "code",
   "execution_count": 5,
   "metadata": {},
   "outputs": [
    {
     "name": "stdout",
     "output_type": "stream",
     "text": [
      "Frédéric Malle Portrait Of A Lady/Calvin Klein Eternity for Men/Hermès H24/Byredo Mojave Ghost/Prada Ocean\n"
     ]
    }
   ],
   "source": [
    "print(client.qna_search(query= \"Based on this user’s preferences, what are the top 5 bestselling cologne/perfumes? Please provide the results in a single string separated by a ‘/’ (e.g., fragrance1/fragrance2/fragrance3/fragrance4/fragrance5): 'Fragrance Type: Cologne Fragrance Format(s): Eau de Parfum (EDP), Eau de Toilette (EDT), Solid Perfumes Fragrance Portfolio(s): Woody, Oriental, Spicy'\"))"
   ]
  },
  {
   "cell_type": "markdown",
   "metadata": {},
   "source": [
    "Combining Tavily's search capabilities with LLMS using LangChain"
   ]
  },
  {
   "cell_type": "code",
   "execution_count": 6,
   "metadata": {},
   "outputs": [
    {
     "data": {
      "text/plain": [
       "[{'title': '10 Best Woody Colognes For Men In 2025 - FashionBeans',\n",
       "  'url': 'https://www.fashionbeans.com/article/best-woody-colognes/',\n",
       "  'content': 'Discover the 10 best woody cologne to choose from. 155K; 99.3k; 629K; ... Best Spicy Woody Cologne: Paco Rabane 1 Million Intense ... Best Selling Woody Cologne: Gucci Guilty. View It On Amazon .',\n",
       "  'score': 0.77179235,\n",
       "  'raw_content': None},\n",
       " {'title': 'Best-Selling Branded Perfumes in 2025 - frenchfragrance.com',\n",
       "  'url': 'https://frenchfragrance.com/blog/best-selling-branded-perfumes-in-2025',\n",
       "  'content': 'Top Women Perfumes Perfumes Women Perfumes Eyes Eye Cream Eye Cream Hair Perfume Perfumes Perfumes French Fragrance offers you a detailed look at some of the best-selling and most iconic perfumes in the world. Their strong brand identities and enduring appeal highlight the diversity of popular scents in the fragrance world. Elie Saab Le Parfum For Women is a luxurious fragrance that blends confidence and charm with bold sophistication, which is specially catered . It brings together an essence of leather with floral, spicy, and woody notes, which can be worn by men and women both. Perfumes (82) Best Luxury Fragrances for New Year Gifting 2025 Top Branded Perfumes for Women in 2025 Top Branded Perfumes for Women French Fragrance Women Perfumes',\n",
       "  'score': 0.7152057,\n",
       "  'raw_content': None},\n",
       " {'title': \"30 Best Colognes On Every Man's List, Reviewed by GQ | 2025 | GQ\",\n",
       "  'url': 'https://www.gq.com/story/best-colognes-for-men',\n",
       "  'content': 'By Adam Hurly and Michella Oré\\nBy Michella Oré\\nBy Michella Oré\\nBy Timothy Beck Werth\\nGQ COUPONS\\nWayfair Cyber Week 2023 - Up to 80% off + free shipping\\nSave 40% SITEWIDE Cyber Week Michaels Coupon Code\\nASOS Cyber Week: Up to 50% Off Everything\\nCyber Week Deals 2023: up to 45% off at Samsung TODAY only\\nUp to 90% off at SHEIN in November 2023\\nGrab Peacock Premium for Only $1.99/Month Instead of $5.99\\nMore From GQ\\nConnect\\n The Best Cologne for the Hopeless Romantic: Frédéric Malle Portrait Of A Lady\\nFrédéric Malle\\nPortrait Of A Lady Parfum\\nNordstrom\\nScent Profile: Woody Top Note: Rose Heart Note: Blackcurrant Base Note: Patchouli\\nFew fragrance brands inspire the same type of reflexive aaah as the one founded by Frédéric Malle, the legendary Parisian perfumer. The Best Cologne for the \\'90s Nostalgist: Calvin Klein Eternity for Men\\nCalvin Klein\\nEternity for Men Eau de Toilette\\nAmazon\\nScent Profile: Fresh Top Note: Mandarin Heart Note: Basil Base Note: Moss\\nEternity EDT is evergreen: sage, cedar, bergamot, and moss combine for an earthen and refreshing finish, and at a price that is friendly to the greens in your wallet. \"Ocean\" expands on the success Prada has experienced with its Luna Rossa line, infusing its best-selling sport scent with a telltale blast of sea\\nHermès H24\\nHermes\\nH24 Eau de Toilette\\nAmazon\\nScent Profile: Woody Top Note: Clary sage Heart Note: Narcissus Base Note: Rosewood\\nH24, Hermès\\' first pillar men\\'s fragrance in over 15 years, would\\'ve been a landmark by any measure. Byredo \"Mojave Ghost\"\\nByredo\\nMojave Ghost Eau de Parfum\\nNordstrom\\nScent Profile: Woody Top Note: Ambrette Heart Note: Violet Base Note: Chantilly musk\\nA couple of years ago, Gunna—the fur-fitted Archduke of Atlanta himself—described Byredo\\'s Mojave Ghost as a \"nosecatcher\" of a scent, soft and just light enough.',\n",
       "  'score': 0.7043437,\n",
       "  'raw_content': None},\n",
       " {'title': '13 Best Recommended Oriental Perfumes For Women - 2025 - Stylecraze',\n",
       "  'url': 'https://www.stylecraze.com/articles/best-oriental-perfumes/',\n",
       "  'content': '13 Best Oriental Perfumes For Women Things To Consider Before Buying The Best Oriental Perfumes For Women 13 Best Oriental Perfumes For Women The base notes consist of vanilla, sandalwood, and amber, all of which brilliantly express the exotic side of the artist’s Eastern roots, making this the ideal oriental fragrance for all the stunning women out there. The base notes dry down to sandalwood, tonka bean, amber, patchouli, musk, civet, oakmoss, vanilla, and cedar, making this the perfect oriental perfume for everyday wear. Things To Consider Before Buying The Best Oriental Perfumes For Women Oriental perfumes are known for spicy notes and sensual fragrances. In this article, she discusses the best Oriental perfumes that can make you smell exotic and boost your mood immediately.',\n",
       "  'score': 0.59089786,\n",
       "  'raw_content': None},\n",
       " {'title': \"25 Top Men's Fragrances For 2025 - Real Men Real Style\",\n",
       "  'url': 'https://www.realmenrealstyle.com/25-top-mens-fragrances-2025/',\n",
       "  'content': \"25 Top Men's Fragrances For 2025 25 Top Men’s Fragrances For 2025 Overview: A timeless Chanel's classic that balances freshness with deep woody notes, perfect for day-to-night transitions. Overview: A spicier, more daring take on the original Eros, blending warm and fresh notes for an unforgettable scent. Overview: A signature scent for success, blending fruity and woody notes with unparalleled sophistication. Overview: A minimalist and refreshing fragrance with a focus on green tea-inspired notes. Overview: A luxurious and vibrant fragrance for men who want a fresh yet complex scent. Overview: A woody fragrance inspired by nature, perfect for earthy and confident men. Overview: A clean and magnetic fragrance for men who prefer understated elegance.\",\n",
       "  'score': 0.5843666,\n",
       "  'raw_content': None},\n",
       " {'title': \"25 Best-Selling Men's Colognes RANKED From Worst To Best\",\n",
       "  'url': 'https://www.realmenrealstyle.com/best-selling-mens-colognes/',\n",
       "  'content': \"a sweet and fruity cologne on this list\\nTop Notes: Grapefruit, Italian Lemon, Cranberry\\nMiddle Notes: Saffron, Sage\\nBase Notes: Woodsy Notes, Amber, Coffee\\nBest Selling Men's Colognes 13. Top Notes: Pineapple, Green Notes, Mandarin Orange, Papaya, Bergamot, Cardamom, Lemon\\nMiddle Notes: Nutmeg, Violet, Orris Root, Jasmine, Lily-of-the-Valley, Rose, Freesia\\nBase Notes: Sandalwood, Amber, Musk, Cedar, Oakmoss, Green Tea, Green Accord\\nBest Selling Men's Colognes 20. Top Notes: Coriander, Cypress, Mandarin Orange, Tarragon, Yuzu, Lemon Verbena, Sage, Bergamot, Lemon, Calone\\nMiddle Notes: Nutmeg, Mignonette, Ceylon Cinnamon, Bourbon Geranium, Saffron, Lilly of the Valley, Blue Lotus\\nBase Notes: Tahitian Vetiver, Musk, Sandalwood, Cedar, Amber, Tobacco\\nBest Selling Men's Colognes 7. Top Notes:\\xa0Orange, Lime, Mandarin Orange, Jasmine, Bergamot, Lemon, Neroli\\nMiddle Notes: Cyclamen, Nutmeg, Mignonette, Coriander, Violet, Freesia, Sea Notes, Peach, Hiacynth, Rose, Jasmine, Rosemary, Calone\\nBase Notes: Amber, Patchouli, Oakmoss, Cedar, White Musk\\nBest Selling Men's Colognes 11. Top Notes: Grapefruit, Mint, Blood Mandarin\\nMiddle Notes: Rose, Cinnamon, Spicy Notes\\nBase Notes: Leather, Woody Notes, Amber, Indian Patchouli\\nBest Selling Men's Colognes 17.\",\n",
       "  'score': 0.4765072,\n",
       "  'raw_content': None},\n",
       " {'title': '10 Best Woody Fragrances for the Men in 2025 - The ... - The Trend Spotter',\n",
       "  'url': 'https://www.thetrendspotter.net/10-best-woody-fragrances-for-the-mysterious-man/',\n",
       "  'content': '10 Best Woody Fragrances for the Men in 2024 - The Trend Spotter When it comes to woody fragrances, this scent is undeniably one that you will want to try, based on its complex yet still classic composition. This scent was inspired by the authentic elements of nature, but consistent with the ultra-classic Tom Ford brand is much more sophisticated and complex than most woody fragrances. This scent is certainly fresher than the typical warmth of a woody fragrance. With cypriol, incense, cedarwood, oud wood, and cardamom this fragrance is a playful mix of the classic notes that typically make up a woody scent.',\n",
       "  'score': 0.44608507,\n",
       "  'raw_content': None},\n",
       " {'title': 'The Most Popular Perfumes in America, by City - Byrdie',\n",
       "  'url': 'https://www.byrdie.com/best-selling-perfume-in-america-8775862',\n",
       "  'content': 'Published on January 22, 2025 02:16AM. Fact checked by. Michelle Regalado. ... The 22 Best Flirty Fragrances, According to Beauty Editors. The 11 Best Budget-Friendly Perfumes That Rival High-End Options. ... The 13 Best Perfumes Similar to Baccarat Rouge 540, According to an Expert.',\n",
       "  'score': 0.42319635,\n",
       "  'raw_content': None},\n",
       " {'title': '7 Best Perfume Trends of 2025, According to Fragrance Experts',\n",
       "  'url': 'https://www.cosmopolitan.com/style-beauty/beauty/a63217996/perfume-fragrance-trends-2025/',\n",
       "  'content': '\"We’re likely to continue to see a resurgence of comforting, nostalgic notes alongside experimental blends,\" says Caroline Sabas, senior perfumer at Givaudan. \"I think all those \\'Sephora tween\\' stories from the past two years made the rounds among beauty incubators and investor crowds, and we’re going to see a lot of \\'hello, fellow kids\\' brands providing cute, accessible fragrance options for the youth,\" she says. Beth Gillette is the beauty editor at Cosmopolitan with six years of experience researching, writing, and editing fragrance stories that range from winter perfumes to expensive perfumes. She\\'s an authority in all fragrance categories, but is an expert when it comes to perfume trends after working with the industry’s top experts to assess new formulas and brands.',\n",
       "  'score': 0.33509022,\n",
       "  'raw_content': None},\n",
       " {'title': 'What Are Oriental Fragrances? Oriental Spicy, Oriental Woody, Oriental ...',\n",
       "  'url': 'https://www.youtube.com/watch?v=eQEu0A9LHTQ',\n",
       "  'content': 'What Are Oriental Fragrances? Oriental Spicy, Oriental Woody, Oriental Floral, Oriental Fougere ️Buy Samples/Decants here: https://www.perfumesamplesanddecan',\n",
       "  'score': 0.3292736,\n",
       "  'raw_content': None}]"
      ]
     },
     "execution_count": 6,
     "metadata": {},
     "output_type": "execute_result"
    }
   ],
   "source": [
    "#Essentially translates our query into a more formatted way for LangChain to understand\n",
    "from langchain.adapters.openai import convert_openai_messages\n",
    "#Allow us to interact with LLMS\n",
    "from langchain_openai import ChatOpenAI\n",
    "\n",
    "\n",
    "#Tavily Prompt (Search Query To Retrieve Data):\n",
    "query = \"Based on this user’s preferences, what are the top 5 bestselling cologne/perfumes? Please provide the results in a single string separated by a ‘/’ (e.g., fragrance1/fragrance2/fragrance3/fragrance4/fragrance5): 'Fragrance Type: Cologne Fragrance Format(s): Eau de Parfum (EDP), Eau de Toilette (EDT), Solid Perfumes Fragrance Portfolio(s): Woody, Oriental, Spicy'\"\n",
    "response = client.search(query, max_results= 10, search_depth=\"advanced\")['results']\n",
    "response"
   ]
  },
  {
   "cell_type": "code",
   "execution_count": 7,
   "metadata": {},
   "outputs": [
    {
     "data": {
      "text/plain": [
       "[SystemMessage(content=\" \\n        You are an AI critical thinker research assistant. \\n        Your purpose is to help recommend user's best selling fragrances.\\n        \", additional_kwargs={}, response_metadata={}),\n",
       " HumanMessage(content='Information: \"\"\"[{\\'title\\': \\'10 Best Woody Colognes For Men In 2025 - FashionBeans\\', \\'url\\': \\'https://www.fashionbeans.com/article/best-woody-colognes/\\', \\'content\\': \\'Discover the 10 best woody cologne to choose from. 155K; 99.3k; 629K; ... Best Spicy Woody Cologne: Paco Rabane 1 Million Intense ... Best Selling Woody Cologne: Gucci Guilty. View It On Amazon .\\', \\'score\\': 0.77179235, \\'raw_content\\': None}, {\\'title\\': \\'Best-Selling Branded Perfumes in 2025 - frenchfragrance.com\\', \\'url\\': \\'https://frenchfragrance.com/blog/best-selling-branded-perfumes-in-2025\\', \\'content\\': \\'Top Women Perfumes Perfumes Women Perfumes Eyes Eye Cream Eye Cream Hair Perfume Perfumes Perfumes French Fragrance offers you a detailed look at some of the best-selling and most iconic perfumes in the world. Their strong brand identities and enduring appeal highlight the diversity of popular scents in the fragrance world. Elie Saab Le Parfum For Women is a luxurious fragrance that blends confidence and charm with bold sophistication, which is specially catered . It brings together an essence of leather with floral, spicy, and woody notes, which can be worn by men and women both. Perfumes (82) Best Luxury Fragrances for New Year Gifting 2025 Top Branded Perfumes for Women in 2025 Top Branded Perfumes for Women French Fragrance Women Perfumes\\', \\'score\\': 0.7152057, \\'raw_content\\': None}, {\\'title\\': \"30 Best Colognes On Every Man\\'s List, Reviewed by GQ | 2025 | GQ\", \\'url\\': \\'https://www.gq.com/story/best-colognes-for-men\\', \\'content\\': \\'By Adam Hurly and Michella Oré\\\\nBy Michella Oré\\\\nBy Michella Oré\\\\nBy Timothy Beck Werth\\\\nGQ COUPONS\\\\nWayfair Cyber Week 2023 - Up to 80% off + free shipping\\\\nSave 40% SITEWIDE Cyber Week Michaels Coupon Code\\\\nASOS Cyber Week: Up to 50% Off Everything\\\\nCyber Week Deals 2023: up to 45% off at Samsung TODAY only\\\\nUp to 90% off at SHEIN in November 2023\\\\nGrab Peacock Premium for Only $1.99/Month Instead of $5.99\\\\nMore From GQ\\\\nConnect\\\\n The Best Cologne for the Hopeless Romantic: Frédéric Malle Portrait Of A Lady\\\\nFrédéric Malle\\\\nPortrait Of A Lady Parfum\\\\nNordstrom\\\\nScent Profile: Woody Top Note: Rose Heart Note: Blackcurrant Base Note: Patchouli\\\\nFew fragrance brands inspire the same type of reflexive aaah as the one founded by Frédéric Malle, the legendary Parisian perfumer. The Best Cologne for the \\\\\\'90s Nostalgist: Calvin Klein Eternity for Men\\\\nCalvin Klein\\\\nEternity for Men Eau de Toilette\\\\nAmazon\\\\nScent Profile: Fresh Top Note: Mandarin Heart Note: Basil Base Note: Moss\\\\nEternity EDT is evergreen: sage, cedar, bergamot, and moss combine for an earthen and refreshing finish, and at a price that is friendly to the greens in your wallet. \"Ocean\" expands on the success Prada has experienced with its Luna Rossa line, infusing its best-selling sport scent with a telltale blast of sea\\\\nHermès H24\\\\nHermes\\\\nH24 Eau de Toilette\\\\nAmazon\\\\nScent Profile: Woody Top Note: Clary sage Heart Note: Narcissus Base Note: Rosewood\\\\nH24, Hermès\\\\\\' first pillar men\\\\\\'s fragrance in over 15 years, would\\\\\\'ve been a landmark by any measure. Byredo \"Mojave Ghost\"\\\\nByredo\\\\nMojave Ghost Eau de Parfum\\\\nNordstrom\\\\nScent Profile: Woody Top Note: Ambrette Heart Note: Violet Base Note: Chantilly musk\\\\nA couple of years ago, Gunna—the fur-fitted Archduke of Atlanta himself—described Byredo\\\\\\'s Mojave Ghost as a \"nosecatcher\" of a scent, soft and just light enough.\\', \\'score\\': 0.7043437, \\'raw_content\\': None}, {\\'title\\': \\'13 Best Recommended Oriental Perfumes For Women - 2025 - Stylecraze\\', \\'url\\': \\'https://www.stylecraze.com/articles/best-oriental-perfumes/\\', \\'content\\': \\'13 Best Oriental Perfumes For Women Things To Consider Before Buying The Best Oriental Perfumes For Women 13 Best Oriental Perfumes For Women The base notes consist of vanilla, sandalwood, and amber, all of which brilliantly express the exotic side of the artist’s Eastern roots, making this the ideal oriental fragrance for all the stunning women out there. The base notes dry down to sandalwood, tonka bean, amber, patchouli, musk, civet, oakmoss, vanilla, and cedar, making this the perfect oriental perfume for everyday wear. Things To Consider Before Buying The Best Oriental Perfumes For Women Oriental perfumes are known for spicy notes and sensual fragrances. In this article, she discusses the best Oriental perfumes that can make you smell exotic and boost your mood immediately.\\', \\'score\\': 0.59089786, \\'raw_content\\': None}, {\\'title\\': \"25 Top Men\\'s Fragrances For 2025 - Real Men Real Style\", \\'url\\': \\'https://www.realmenrealstyle.com/25-top-mens-fragrances-2025/\\', \\'content\\': \"25 Top Men\\'s Fragrances For 2025 25 Top Men’s Fragrances For 2025 Overview: A timeless Chanel\\'s classic that balances freshness with deep woody notes, perfect for day-to-night transitions. Overview: A spicier, more daring take on the original Eros, blending warm and fresh notes for an unforgettable scent. Overview: A signature scent for success, blending fruity and woody notes with unparalleled sophistication. Overview: A minimalist and refreshing fragrance with a focus on green tea-inspired notes. Overview: A luxurious and vibrant fragrance for men who want a fresh yet complex scent. Overview: A woody fragrance inspired by nature, perfect for earthy and confident men. Overview: A clean and magnetic fragrance for men who prefer understated elegance.\", \\'score\\': 0.5843666, \\'raw_content\\': None}, {\\'title\\': \"25 Best-Selling Men\\'s Colognes RANKED From Worst To Best\", \\'url\\': \\'https://www.realmenrealstyle.com/best-selling-mens-colognes/\\', \\'content\\': \"a sweet and fruity cologne on this list\\\\nTop Notes: Grapefruit, Italian Lemon, Cranberry\\\\nMiddle Notes: Saffron, Sage\\\\nBase Notes: Woodsy Notes, Amber, Coffee\\\\nBest Selling Men\\'s Colognes 13. Top Notes: Pineapple, Green Notes, Mandarin Orange, Papaya, Bergamot, Cardamom, Lemon\\\\nMiddle Notes: Nutmeg, Violet, Orris Root, Jasmine, Lily-of-the-Valley, Rose, Freesia\\\\nBase Notes: Sandalwood, Amber, Musk, Cedar, Oakmoss, Green Tea, Green Accord\\\\nBest Selling Men\\'s Colognes 20. Top Notes: Coriander, Cypress, Mandarin Orange, Tarragon, Yuzu, Lemon Verbena, Sage, Bergamot, Lemon, Calone\\\\nMiddle Notes: Nutmeg, Mignonette, Ceylon Cinnamon, Bourbon Geranium, Saffron, Lilly of the Valley, Blue Lotus\\\\nBase Notes: Tahitian Vetiver, Musk, Sandalwood, Cedar, Amber, Tobacco\\\\nBest Selling Men\\'s Colognes 7. Top Notes:\\\\xa0Orange, Lime, Mandarin Orange, Jasmine, Bergamot, Lemon, Neroli\\\\nMiddle Notes: Cyclamen, Nutmeg, Mignonette, Coriander, Violet, Freesia, Sea Notes, Peach, Hiacynth, Rose, Jasmine, Rosemary, Calone\\\\nBase Notes: Amber, Patchouli, Oakmoss, Cedar, White Musk\\\\nBest Selling Men\\'s Colognes 11. Top Notes: Grapefruit, Mint, Blood Mandarin\\\\nMiddle Notes: Rose, Cinnamon, Spicy Notes\\\\nBase Notes: Leather, Woody Notes, Amber, Indian Patchouli\\\\nBest Selling Men\\'s Colognes 17.\", \\'score\\': 0.4765072, \\'raw_content\\': None}, {\\'title\\': \\'10 Best Woody Fragrances for the Men in 2025 - The ... - The Trend Spotter\\', \\'url\\': \\'https://www.thetrendspotter.net/10-best-woody-fragrances-for-the-mysterious-man/\\', \\'content\\': \\'10 Best Woody Fragrances for the Men in 2024 - The Trend Spotter When it comes to woody fragrances, this scent is undeniably one that you will want to try, based on its complex yet still classic composition. This scent was inspired by the authentic elements of nature, but consistent with the ultra-classic Tom Ford brand is much more sophisticated and complex than most woody fragrances. This scent is certainly fresher than the typical warmth of a woody fragrance. With cypriol, incense, cedarwood, oud wood, and cardamom this fragrance is a playful mix of the classic notes that typically make up a woody scent.\\', \\'score\\': 0.44608507, \\'raw_content\\': None}, {\\'title\\': \\'The Most Popular Perfumes in America, by City - Byrdie\\', \\'url\\': \\'https://www.byrdie.com/best-selling-perfume-in-america-8775862\\', \\'content\\': \\'Published on January 22, 2025 02:16AM. Fact checked by. Michelle Regalado. ... The 22 Best Flirty Fragrances, According to Beauty Editors. The 11 Best Budget-Friendly Perfumes That Rival High-End Options. ... The 13 Best Perfumes Similar to Baccarat Rouge 540, According to an Expert.\\', \\'score\\': 0.42319635, \\'raw_content\\': None}, {\\'title\\': \\'7 Best Perfume Trends of 2025, According to Fragrance Experts\\', \\'url\\': \\'https://www.cosmopolitan.com/style-beauty/beauty/a63217996/perfume-fragrance-trends-2025/\\', \\'content\\': \\'\"We’re likely to continue to see a resurgence of comforting, nostalgic notes alongside experimental blends,\" says Caroline Sabas, senior perfumer at Givaudan. \"I think all those \\\\\\'Sephora tween\\\\\\' stories from the past two years made the rounds among beauty incubators and investor crowds, and we’re going to see a lot of \\\\\\'hello, fellow kids\\\\\\' brands providing cute, accessible fragrance options for the youth,\" she says. Beth Gillette is the beauty editor at Cosmopolitan with six years of experience researching, writing, and editing fragrance stories that range from winter perfumes to expensive perfumes. She\\\\\\'s an authority in all fragrance categories, but is an expert when it comes to perfume trends after working with the industry’s top experts to assess new formulas and brands.\\', \\'score\\': 0.33509022, \\'raw_content\\': None}, {\\'title\\': \\'What Are Oriental Fragrances? Oriental Spicy, Oriental Woody, Oriental ...\\', \\'url\\': \\'https://www.youtube.com/watch?v=eQEu0A9LHTQ\\', \\'content\\': \\'What Are Oriental Fragrances? Oriental Spicy, Oriental Woody, Oriental Floral, Oriental Fougere ️Buy Samples/Decants here: https://www.perfumesamplesanddecan\\', \\'score\\': 0.3292736, \\'raw_content\\': None}]\"\"\"\\n        Using the information above, answer the following query: \"\"\"Based on this user’s preferences, what are the top 5 bestselling cologne/perfumes? Please provide the results in a single string separated by a ‘/’ (e.g., fragrance1/fragrance2/fragrance3/fragrance4/fragrance5): \\'Fragrance Type: Cologne Fragrance Format(s): Eau de Parfum (EDP), Eau de Toilette (EDT), Solid Perfumes Fragrance Portfolio(s): Woody, Oriental, Spicy\\'\"\"\". \\n        ', additional_kwargs={}, response_metadata={})]"
      ]
     },
     "execution_count": 7,
     "metadata": {},
     "output_type": "execute_result"
    }
   ],
   "source": [
    "#LangChain Prompt (Search Query To Process Data): \n",
    "prompt = [\n",
    "    #Define the AI's job description\n",
    "    {\n",
    "        'role':'system', \n",
    "        'content': f''' \n",
    "        You are an AI critical thinker research assistant. \n",
    "        Your purpose is to help recommend user's best selling fragrances.\n",
    "        '''\n",
    "    },\n",
    "    #Give Specific instructions for the current task based on the input data\n",
    "    {\n",
    "        'role': 'user', \n",
    "        'content': f'''Information: \"\"\"{response}\"\"\"\n",
    "        Using the information above, answer the following query: \"\"\"{query}\"\"\". \n",
    "        '''\n",
    "    }\n",
    "]\n",
    "\n",
    "lc_messages = convert_openai_messages(prompt)\n",
    "lc_messages"
   ]
  },
  {
   "cell_type": "code",
   "execution_count": 8,
   "metadata": {},
   "outputs": [
    {
     "name": "stdout",
     "output_type": "stream",
     "text": [
      "Gucci Guilty/Paco Rabane 1 Million Intense/Frédéric Malle Portrait Of A Lady/Calvin Klein Eternity for Men/Hermès H24\n"
     ]
    }
   ],
   "source": [
    "response = ChatOpenAI(model='gpt-4o-mini').invoke(lc_messages)\n",
    "print(response.content)"
   ]
  }
 ],
 "metadata": {
  "kernelspec": {
   "display_name": "Python 3",
   "language": "python",
   "name": "python3"
  },
  "language_info": {
   "codemirror_mode": {
    "name": "ipython",
    "version": 3
   },
   "file_extension": ".py",
   "mimetype": "text/x-python",
   "name": "python",
   "nbconvert_exporter": "python",
   "pygments_lexer": "ipython3",
   "version": "3.13.0"
  }
 },
 "nbformat": 4,
 "nbformat_minor": 2
}
